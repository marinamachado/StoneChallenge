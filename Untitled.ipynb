{
 "cells": [
  {
   "cell_type": "markdown",
   "metadata": {},
   "source": [
    "# Data Intern Challenge\n"
   ]
  },
  {
   "cell_type": "code",
   "execution_count": 1,
   "metadata": {},
   "outputs": [],
   "source": [
    "import pandas as pd\n",
    "import seaborn as sns\n",
    "import matplotlib.pyplot as plt"
   ]
  },
  {
   "cell_type": "markdown",
   "metadata": {},
   "source": [
    "### 1. Extract and analyze the data in order to answer the following questions. Provide a description and/or comments for each solution.\n"
   ]
  },
  {
   "cell_type": "code",
   "execution_count": 2,
   "metadata": {},
   "outputs": [],
   "source": [
    "# Leitura das bases de dados necessárias \n",
    "cards = pd.read_csv('dataset-cards.csv', sep = ';')\n",
    "customers = pd.read_csv('dataset-customers.csv', sep = ';')\n",
    "frauds = pd.read_csv('dataset-frauds.csv', sep = ';')\n",
    "transactions = pd.read_csv('dataset-transactions.csv', sep = ';')\n"
   ]
  },
  {
   "cell_type": "markdown",
   "metadata": {},
   "source": [
    "##### What is the average age of the customers in the database?"
   ]
  },
  {
   "cell_type": "code",
   "execution_count": 3,
   "metadata": {},
   "outputs": [
    {
     "data": {
      "text/plain": [
       "35.059922453295734"
      ]
     },
     "execution_count": 3,
     "metadata": {},
     "output_type": "execute_result"
    }
   ],
   "source": [
    "customers['age'].mean()"
   ]
  },
  {
   "cell_type": "markdown",
   "metadata": {},
   "source": [
    "##### How is the card_family ranked based on the credit_limit given to each card?\n"
   ]
  },
  {
   "cell_type": "code",
   "execution_count": 4,
   "metadata": {},
   "outputs": [
    {
     "data": {
      "text/plain": [
       "Premium     207\n",
       "Gold        181\n",
       "Platinum    112\n",
       "Name: card_family, dtype: int64"
      ]
     },
     "execution_count": 4,
     "metadata": {},
     "output_type": "execute_result"
    }
   ],
   "source": [
    "# Primeiro descobrir quais são as classes que tem na base  \n",
    "cards['card_family'].value_counts()"
   ]
  },
  {
   "cell_type": "code",
   "execution_count": 5,
   "metadata": {},
   "outputs": [
    {
     "data": {
      "text/html": [
       "<div>\n",
       "<style scoped>\n",
       "    .dataframe tbody tr th:only-of-type {\n",
       "        vertical-align: middle;\n",
       "    }\n",
       "\n",
       "    .dataframe tbody tr th {\n",
       "        vertical-align: top;\n",
       "    }\n",
       "\n",
       "    .dataframe thead th {\n",
       "        text-align: right;\n",
       "    }\n",
       "</style>\n",
       "<table border=\"1\" class=\"dataframe\">\n",
       "  <thead>\n",
       "    <tr style=\"text-align: right;\">\n",
       "      <th></th>\n",
       "      <th>credit_limit</th>\n",
       "    </tr>\n",
       "  </thead>\n",
       "  <tbody>\n",
       "    <tr>\n",
       "      <th>count</th>\n",
       "      <td>207.000000</td>\n",
       "    </tr>\n",
       "    <tr>\n",
       "      <th>mean</th>\n",
       "      <td>514763.285024</td>\n",
       "    </tr>\n",
       "    <tr>\n",
       "      <th>std</th>\n",
       "      <td>232013.740397</td>\n",
       "    </tr>\n",
       "    <tr>\n",
       "      <th>min</th>\n",
       "      <td>108000.000000</td>\n",
       "    </tr>\n",
       "    <tr>\n",
       "      <th>25%</th>\n",
       "      <td>325000.000000</td>\n",
       "    </tr>\n",
       "    <tr>\n",
       "      <th>50%</th>\n",
       "      <td>516000.000000</td>\n",
       "    </tr>\n",
       "    <tr>\n",
       "      <th>75%</th>\n",
       "      <td>710000.000000</td>\n",
       "    </tr>\n",
       "    <tr>\n",
       "      <th>max</th>\n",
       "      <td>899000.000000</td>\n",
       "    </tr>\n",
       "  </tbody>\n",
       "</table>\n",
       "</div>"
      ],
      "text/plain": [
       "        credit_limit\n",
       "count     207.000000\n",
       "mean   514763.285024\n",
       "std    232013.740397\n",
       "min    108000.000000\n",
       "25%    325000.000000\n",
       "50%    516000.000000\n",
       "75%    710000.000000\n",
       "max    899000.000000"
      ]
     },
     "execution_count": 5,
     "metadata": {},
     "output_type": "execute_result"
    }
   ],
   "source": [
    "# Ver os valores máximos e mínimos de cada um\n",
    "cards[cards['card_family'] == 'Premium'].describe()"
   ]
  },
  {
   "cell_type": "code",
   "execution_count": 6,
   "metadata": {},
   "outputs": [
    {
     "data": {
      "text/html": [
       "<div>\n",
       "<style scoped>\n",
       "    .dataframe tbody tr th:only-of-type {\n",
       "        vertical-align: middle;\n",
       "    }\n",
       "\n",
       "    .dataframe tbody tr th {\n",
       "        vertical-align: top;\n",
       "    }\n",
       "\n",
       "    .dataframe thead th {\n",
       "        text-align: right;\n",
       "    }\n",
       "</style>\n",
       "<table border=\"1\" class=\"dataframe\">\n",
       "  <thead>\n",
       "    <tr style=\"text-align: right;\">\n",
       "      <th></th>\n",
       "      <th>credit_limit</th>\n",
       "    </tr>\n",
       "  </thead>\n",
       "  <tbody>\n",
       "    <tr>\n",
       "      <th>count</th>\n",
       "      <td>181.000000</td>\n",
       "    </tr>\n",
       "    <tr>\n",
       "      <th>mean</th>\n",
       "      <td>27878.453039</td>\n",
       "    </tr>\n",
       "    <tr>\n",
       "      <th>std</th>\n",
       "      <td>13495.127921</td>\n",
       "    </tr>\n",
       "    <tr>\n",
       "      <th>min</th>\n",
       "      <td>2000.000000</td>\n",
       "    </tr>\n",
       "    <tr>\n",
       "      <th>25%</th>\n",
       "      <td>17000.000000</td>\n",
       "    </tr>\n",
       "    <tr>\n",
       "      <th>50%</th>\n",
       "      <td>28000.000000</td>\n",
       "    </tr>\n",
       "    <tr>\n",
       "      <th>75%</th>\n",
       "      <td>38000.000000</td>\n",
       "    </tr>\n",
       "    <tr>\n",
       "      <th>max</th>\n",
       "      <td>50000.000000</td>\n",
       "    </tr>\n",
       "  </tbody>\n",
       "</table>\n",
       "</div>"
      ],
      "text/plain": [
       "       credit_limit\n",
       "count    181.000000\n",
       "mean   27878.453039\n",
       "std    13495.127921\n",
       "min     2000.000000\n",
       "25%    17000.000000\n",
       "50%    28000.000000\n",
       "75%    38000.000000\n",
       "max    50000.000000"
      ]
     },
     "execution_count": 6,
     "metadata": {},
     "output_type": "execute_result"
    }
   ],
   "source": [
    "cards[cards['card_family'] == 'Gold'].describe()"
   ]
  },
  {
   "cell_type": "code",
   "execution_count": 7,
   "metadata": {},
   "outputs": [
    {
     "data": {
      "text/html": [
       "<div>\n",
       "<style scoped>\n",
       "    .dataframe tbody tr th:only-of-type {\n",
       "        vertical-align: middle;\n",
       "    }\n",
       "\n",
       "    .dataframe tbody tr th {\n",
       "        vertical-align: top;\n",
       "    }\n",
       "\n",
       "    .dataframe thead th {\n",
       "        text-align: right;\n",
       "    }\n",
       "</style>\n",
       "<table border=\"1\" class=\"dataframe\">\n",
       "  <thead>\n",
       "    <tr style=\"text-align: right;\">\n",
       "      <th></th>\n",
       "      <th>credit_limit</th>\n",
       "    </tr>\n",
       "  </thead>\n",
       "  <tbody>\n",
       "    <tr>\n",
       "      <th>count</th>\n",
       "      <td>112.000000</td>\n",
       "    </tr>\n",
       "    <tr>\n",
       "      <th>mean</th>\n",
       "      <td>131294.642857</td>\n",
       "    </tr>\n",
       "    <tr>\n",
       "      <th>std</th>\n",
       "      <td>43272.369811</td>\n",
       "    </tr>\n",
       "    <tr>\n",
       "      <th>min</th>\n",
       "      <td>51000.000000</td>\n",
       "    </tr>\n",
       "    <tr>\n",
       "      <th>25%</th>\n",
       "      <td>101500.000000</td>\n",
       "    </tr>\n",
       "    <tr>\n",
       "      <th>50%</th>\n",
       "      <td>136500.000000</td>\n",
       "    </tr>\n",
       "    <tr>\n",
       "      <th>75%</th>\n",
       "      <td>166250.000000</td>\n",
       "    </tr>\n",
       "    <tr>\n",
       "      <th>max</th>\n",
       "      <td>200000.000000</td>\n",
       "    </tr>\n",
       "  </tbody>\n",
       "</table>\n",
       "</div>"
      ],
      "text/plain": [
       "        credit_limit\n",
       "count     112.000000\n",
       "mean   131294.642857\n",
       "std     43272.369811\n",
       "min     51000.000000\n",
       "25%    101500.000000\n",
       "50%    136500.000000\n",
       "75%    166250.000000\n",
       "max    200000.000000"
      ]
     },
     "execution_count": 7,
     "metadata": {},
     "output_type": "execute_result"
    }
   ],
   "source": [
    "cards[cards['card_family'] == 'Platinum'].describe()"
   ]
  },
  {
   "cell_type": "markdown",
   "metadata": {},
   "source": [
    "Baseado nos valores máximos e mínimos de cada tipo, o ranking seria de forma crescente Gold, Platinum e Premium. Porém existem cartões Premium com limite menor que alguns Platinum."
   ]
  },
  {
   "cell_type": "markdown",
   "metadata": {},
   "source": [
    "##### For the transactions flagged as fraud, what are the ids of the transactions with the highest value?\n"
   ]
  },
  {
   "cell_type": "code",
   "execution_count": 8,
   "metadata": {},
   "outputs": [],
   "source": [
    "# Junto a base de transação com a base de fraudes para conseguir as informações de valor\n",
    "fraud_transactions = frauds.merge(transactions,left_on = 'transaction_id', right_on = 'id', how = 'left')"
   ]
  },
  {
   "cell_type": "code",
   "execution_count": 9,
   "metadata": {},
   "outputs": [
    {
     "data": {
      "text/plain": [
       "'CTID20567160'"
      ]
     },
     "execution_count": 9,
     "metadata": {},
     "output_type": "execute_result"
    }
   ],
   "source": [
    "# Pego o indice do máximo valor e acesso ele para recuperar qual o id da transação\n",
    "id_max = fraud_transactions['value'].idxmax()\n",
    "fraud_transactions.iloc[id_max]['transaction_id']"
   ]
  },
  {
   "cell_type": "code",
   "execution_count": 10,
   "metadata": {},
   "outputs": [
    {
     "data": {
      "text/html": [
       "<div>\n",
       "<style scoped>\n",
       "    .dataframe tbody tr th:only-of-type {\n",
       "        vertical-align: middle;\n",
       "    }\n",
       "\n",
       "    .dataframe tbody tr th {\n",
       "        vertical-align: top;\n",
       "    }\n",
       "\n",
       "    .dataframe thead th {\n",
       "        text-align: right;\n",
       "    }\n",
       "</style>\n",
       "<table border=\"1\" class=\"dataframe\">\n",
       "  <thead>\n",
       "    <tr style=\"text-align: right;\">\n",
       "      <th></th>\n",
       "      <th>transaction_id</th>\n",
       "      <th>fraud_flag</th>\n",
       "      <th>id</th>\n",
       "      <th>card_number</th>\n",
       "      <th>transaction_date</th>\n",
       "      <th>value</th>\n",
       "      <th>segment</th>\n",
       "    </tr>\n",
       "  </thead>\n",
       "  <tbody>\n",
       "    <tr>\n",
       "      <th>6</th>\n",
       "      <td>CTID20567160</td>\n",
       "      <td>True</td>\n",
       "      <td>CTID20567160</td>\n",
       "      <td>3295-6390-4452-7199</td>\n",
       "      <td>2016-10-08</td>\n",
       "      <td>49155</td>\n",
       "      <td>SEG16</td>\n",
       "    </tr>\n",
       "  </tbody>\n",
       "</table>\n",
       "</div>"
      ],
      "text/plain": [
       "  transaction_id  fraud_flag            id          card_number  \\\n",
       "6   CTID20567160        True  CTID20567160  3295-6390-4452-7199   \n",
       "\n",
       "  transaction_date  value segment  \n",
       "6       2016-10-08  49155   SEG16  "
      ]
     },
     "execution_count": 10,
     "metadata": {},
     "output_type": "execute_result"
    }
   ],
   "source": [
    "fraud_transactions[fraud_transactions['transaction_id'] == 'CTID20567160']"
   ]
  },
  {
   "cell_type": "markdown",
   "metadata": {},
   "source": [
    "### 2.Analysis:"
   ]
  },
  {
   "cell_type": "code",
   "execution_count": 11,
   "metadata": {},
   "outputs": [],
   "source": [
    "# Junto todas as bases para conseguir extrair o maximo de informações possiveis\n",
    "df = frauds.merge(transactions,left_on = 'transaction_id', right_on = 'id', how = 'right')\n",
    "df = df.merge(cards, on = 'card_number', how = 'left')\n",
    "df = df.merge(customers,left_on = 'customer_id', right_on = 'id', how = 'left')"
   ]
  },
  {
   "cell_type": "code",
   "execution_count": 12,
   "metadata": {},
   "outputs": [],
   "source": [
    "# Preencher com 0 as transações que não tiveram frauds\n",
    "df['fraud_flag'] = df['fraud_flag'].fillna(0)\n",
    "df['fraud_flag'] = df['fraud_flag'].astype('int32')\n"
   ]
  },
  {
   "cell_type": "code",
   "execution_count": 13,
   "metadata": {},
   "outputs": [],
   "source": [
    "# Para analisar relação com o período do ano e da semana\n",
    "df['transaction_date'] = pd.to_datetime(df['transaction_date'], format='%Y.%m.%d')\n",
    "df['weekday'] = df['transaction_date'].dt.weekday\n",
    "df['month'] = df['transaction_date'].dt.month"
   ]
  },
  {
   "cell_type": "code",
   "execution_count": 14,
   "metadata": {},
   "outputs": [],
   "source": [
    "# Separei a base em transações que ocorreram fraude e as que não para tentar notar a diferença\n",
    "df_frauds = df[df['fraud_flag'] == 1].copy()\n",
    "df_not_frauds = df[df['fraud_flag'] == 0].copy()\n"
   ]
  },
  {
   "cell_type": "code",
   "execution_count": 15,
   "metadata": {},
   "outputs": [
    {
     "data": {
      "image/png": "[encoded data removed]",
      "text/plain": [
       "<Figure size 432x288 with 2 Axes>"
      ]
     },
     "metadata": {
      "needs_background": "light"
     },
     "output_type": "display_data"
    }
   ],
   "source": [
    "# Primeiro tentei ver a correlação entre as variáveis\n",
    "\n",
    "correlation_mat = df.corr()\n",
    "sns.heatmap(correlation_mat, annot = True)\n",
    "plt.show()"
   ]
  },
  {
   "cell_type": "markdown",
   "metadata": {},
   "source": [
    "A variável numérica que apresentou mais relação com ser fraude ou não foi o valor, mas não muito direta "
   ]
  },
  {
   "cell_type": "markdown",
   "metadata": {},
   "source": [
    "O valor mínimo da sem fraude é bem menor que os de fraude"
   ]
  },
  {
   "cell_type": "code",
   "execution_count": 16,
   "metadata": {},
   "outputs": [
    {
     "name": "stdout",
     "output_type": "stream",
     "text": [
      " ---------- Com fraude ----------\n",
      "count      109.000000\n",
      "mean     26808.880734\n",
      "std      13574.318372\n",
      "min        683.000000\n",
      "25%      14586.000000\n",
      "50%      29746.000000\n",
      "75%      36706.000000\n",
      "max      49155.000000\n",
      "Name: value, dtype: float64\n",
      "\n",
      "---------- Sem fraude ----------\n",
      "count     9891.000000\n",
      "mean     24736.148519\n",
      "std      14378.643515\n",
      "min        103.000000\n",
      "25%      12288.500000\n",
      "50%      24631.000000\n",
      "75%      37043.000000\n",
      "max      49995.000000\n",
      "Name: value, dtype: float64\n"
     ]
    }
   ],
   "source": [
    "print(' ---------- Com fraude ----------')\n",
    "print(df_frauds['value'].describe())\n",
    "print('\\n---------- Sem fraude ----------')\n",
    "print(df_not_frauds['value'].describe())"
   ]
  },
  {
   "cell_type": "markdown",
   "metadata": {},
   "source": [
    "Tentei ver se teria relação entre o valor e o limite de crédito"
   ]
  },
  {
   "cell_type": "code",
   "execution_count": 17,
   "metadata": {},
   "outputs": [
    {
     "data": {
      "text/plain": [
       "209429.6513761468"
      ]
     },
     "execution_count": 17,
     "metadata": {},
     "output_type": "execute_result"
    }
   ],
   "source": [
    "df_frauds['diferença'] = df_frauds['credit_limit'] - df_frauds['value']\n",
    "df_frauds['diferença'].mean()\n"
   ]
  },
  {
   "cell_type": "code",
   "execution_count": 18,
   "metadata": {},
   "outputs": [
    {
     "data": {
      "text/plain": [
       "226264.3569912041"
      ]
     },
     "execution_count": 18,
     "metadata": {},
     "output_type": "execute_result"
    }
   ],
   "source": [
    "df_not_frauds['diferença'] = df_not_frauds['credit_limit'] - df_not_frauds['value']\n",
    "df_not_frauds['diferença'].mean()\n"
   ]
  },
  {
   "cell_type": "markdown",
   "metadata": {},
   "source": [
    "Depois olhei para o campo de segmento, vi que quando não tem fraude a distribuição dele é mais balanceada, já nos com fraude os SEG11,SEG23 e SEG21 tem maior aparição "
   ]
  },
  {
   "cell_type": "code",
   "execution_count": 19,
   "metadata": {},
   "outputs": [
    {
     "name": "stdout",
     "output_type": "stream",
     "text": [
      " ---------- Com fraude ----------\n",
      "SEG11    0.137615\n",
      "SEG23    0.110092\n",
      "SEG21    0.091743\n",
      "SEG22    0.082569\n",
      "SEG16    0.073394\n",
      "SEG24    0.073394\n",
      "SEG17    0.073394\n",
      "SEG15    0.055046\n",
      "SEG12    0.055046\n",
      "SEG14    0.055046\n",
      "SEG20    0.055046\n",
      "SEG18    0.036697\n",
      "SEG13    0.036697\n",
      "SEG25    0.036697\n",
      "SEG19    0.027523\n",
      "Name: segment_x, dtype: float64\n",
      "\n",
      "---------- Sem fraude ----------\n",
      "SEG23    0.070367\n",
      "SEG25    0.069659\n",
      "SEG12    0.069659\n",
      "SEG18    0.068547\n",
      "SEG15    0.068446\n",
      "SEG13    0.068244\n",
      "SEG20    0.066930\n",
      "SEG24    0.066828\n",
      "SEG16    0.066626\n",
      "SEG19    0.066222\n",
      "SEG11    0.065110\n",
      "SEG17    0.065009\n",
      "SEG22    0.062987\n",
      "SEG21    0.062987\n",
      "SEG14    0.062380\n",
      "Name: segment_x, dtype: float64\n"
     ]
    }
   ],
   "source": [
    "print(' ---------- Com fraude ----------')\n",
    "print(df_frauds['segment_x'].value_counts(normalize = True))\n",
    "print('\\n---------- Sem fraude ----------')\n",
    "print(df_not_frauds['segment_x'].value_counts(normalize = True))"
   ]
  },
  {
   "cell_type": "markdown",
   "metadata": {},
   "source": [
    "Quando fui olhar o campo segmento_y e card_family vi que a distribuição dos valores foi bem próxima"
   ]
  },
  {
   "cell_type": "code",
   "execution_count": 20,
   "metadata": {},
   "outputs": [
    {
     "name": "stdout",
     "output_type": "stream",
     "text": [
      " ---------- Com fraude ----------\n",
      "Diamond     0.495413\n",
      "Platinum    0.256881\n",
      "Gold        0.247706\n",
      "Name: segment_y, dtype: float64\n",
      "\n",
      "---------- Sem fraude ----------\n",
      "Diamond     0.445455\n",
      "Gold        0.326054\n",
      "Platinum    0.228491\n",
      "Name: segment_y, dtype: float64\n",
      "\n",
      "---------- Com fraude ----------\n",
      "Premium     0.412844\n",
      "Gold        0.357798\n",
      "Platinum    0.229358\n",
      "Name: card_family, dtype: float64\n",
      "\n",
      "---------- Sem fraude ----------\n",
      "Premium     0.409868\n",
      "Gold        0.363664\n",
      "Platinum    0.226469\n",
      "Name: card_family, dtype: float64\n"
     ]
    }
   ],
   "source": [
    "print(' ---------- Com fraude ----------')\n",
    "print(df_frauds['segment_y'].value_counts(normalize = True))\n",
    "print('\\n---------- Sem fraude ----------')\n",
    "print(df_not_frauds['segment_y'].value_counts(normalize = True))\n",
    "print('\\n---------- Com fraude ----------')\n",
    "print(df_frauds['card_family'].value_counts(normalize = True))\n",
    "print('\\n---------- Sem fraude ----------')\n",
    "print(df_not_frauds['card_family'].value_counts(normalize = True))"
   ]
  },
  {
   "cell_type": "markdown",
   "metadata": {},
   "source": [
    "Os vintage_group também bem parecido, tem uma pequena diferença na proporçao do VG1 e do VG2"
   ]
  },
  {
   "cell_type": "code",
   "execution_count": 21,
   "metadata": {},
   "outputs": [
    {
     "name": "stdout",
     "output_type": "stream",
     "text": [
      " ---------- Com fraude ----------\n",
      "VG1    0.495413\n",
      "VG2    0.256881\n",
      "VG3    0.247706\n",
      "Name: vintage_group, dtype: float64\n",
      "\n",
      "---------- Sem fraude ----------\n",
      "VG1    0.445455\n",
      "VG3    0.326054\n",
      "VG2    0.228491\n",
      "Name: vintage_group, dtype: float64\n"
     ]
    }
   ],
   "source": [
    "print(' ---------- Com fraude ----------')\n",
    "print(df_frauds['vintage_group'].value_counts(normalize = True))\n",
    "print('\\n---------- Sem fraude ----------')\n",
    "print(df_not_frauds['vintage_group'].value_counts(normalize = True))"
   ]
  },
  {
   "cell_type": "markdown",
   "metadata": {},
   "source": [
    "Analisando por datas, podemos perceber tambem uma distribuição mais igualitária dos meses e dias da semana quando não há fraude do que quando há, setembro e sábado tiveram maior destaque nas transações com fraudes"
   ]
  },
  {
   "cell_type": "code",
   "execution_count": 22,
   "metadata": {},
   "outputs": [
    {
     "name": "stdout",
     "output_type": "stream",
     "text": [
      " ---------- Com fraude ----------\n",
      "9     0.128440\n",
      "12    0.091743\n",
      "6     0.091743\n",
      "2     0.091743\n",
      "8     0.082569\n",
      "4     0.082569\n",
      "3     0.082569\n",
      "1     0.082569\n",
      "10    0.073394\n",
      "11    0.064220\n",
      "7     0.064220\n",
      "5     0.064220\n",
      "Name: month, dtype: float64\n",
      "\n",
      "---------- Sem fraude ----------\n",
      "10    0.087150\n",
      "5     0.087049\n",
      "3     0.086847\n",
      "11    0.086139\n",
      "7     0.084218\n",
      "8     0.084016\n",
      "6     0.083712\n",
      "1     0.082803\n",
      "4     0.080679\n",
      "12    0.080275\n",
      "9     0.079769\n",
      "2     0.077343\n",
      "Name: month, dtype: float64\n"
     ]
    }
   ],
   "source": [
    "print(' ---------- Com fraude ----------')\n",
    "print(df_frauds['month'].value_counts(normalize = True))\n",
    "print('\\n---------- Sem fraude ----------')\n",
    "print(df_not_frauds['month'].value_counts(normalize = True))"
   ]
  },
  {
   "cell_type": "code",
   "execution_count": 23,
   "metadata": {},
   "outputs": [
    {
     "name": "stdout",
     "output_type": "stream",
     "text": [
      " ---------- Com fraude ----------\n",
      "5    0.183486\n",
      "2    0.155963\n",
      "6    0.146789\n",
      "4    0.146789\n",
      "3    0.146789\n",
      "0    0.128440\n",
      "1    0.091743\n",
      "Name: weekday, dtype: float64\n",
      "\n",
      "---------- Sem fraude ----------\n",
      "1    0.145991\n",
      "6    0.145081\n",
      "4    0.144980\n",
      "2    0.144475\n",
      "5    0.141543\n",
      "0    0.139116\n",
      "3    0.138813\n",
      "Name: weekday, dtype: float64\n"
     ]
    }
   ],
   "source": [
    "print(' ---------- Com fraude ----------')\n",
    "print(df_frauds['weekday'].value_counts(normalize = True))\n",
    "print('\\n---------- Sem fraude ----------')\n",
    "print(df_not_frauds['weekday'].value_counts(normalize = True))"
   ]
  }
 ],
 "metadata": {
  "kernelspec": {
   "display_name": "Python 3",
   "language": "python",
   "name": "python3"
  },
  "language_info": {
   "codemirror_mode": {
    "name": "ipython",
    "version": 3
   },
   "file_extension": ".py",
   "mimetype": "text/x-python",
   "name": "python",
   "nbconvert_exporter": "python",
   "pygments_lexer": "ipython3",
   "version": "3.8.6"
  }
 },
 "nbformat": 4,
 "nbformat_minor": 4
}
